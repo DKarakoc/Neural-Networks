{
 "cells": [
  {
   "cell_type": "markdown",
   "metadata": {},
   "source": [
    "# Chapter 9\n",
    "## Botzmann machines\n",
    "\n",
    "\n",
    "    Hand-in bug-free (try \"Kernel\" > \"Restart & Run All\") and including all (textual as well as figural) output via Blackboard before the deadline (see Blackboard).\n",
    "    \n",
    "Learning goals:\n",
    "1. Implement a Boltzmann machine"
   ]
  },
  {
   "cell_type": "markdown",
   "metadata": {},
   "source": [
    "`Links`\n",
    "***\n",
    "__[Practical Guide to training RBM](http://www.cs.toronto.edu/~hinton/absps/guideTR.pdf)__"
   ]
  },
  {
   "cell_type": "code",
   "execution_count": 1,
   "metadata": {
    "collapsed": true
   },
   "outputs": [],
   "source": [
    "%matplotlib inline\n",
    "import matplotlib.pyplot as plt\n",
    "import matplotlib.image as mpimg\n",
    "import numpy as np\n",
    "import urllib2\n",
    "import scipy.misc as sp\n",
    "from tqdm import tqdm_notebook\n",
    "from tqdm import tqdm\n",
    "from random import randint"
   ]
  },
  {
   "cell_type": "markdown",
   "metadata": {},
   "source": [
    "A (unrestricted) Boltzmann machine is like a Hopfield network with stochastic state updates. The degree of randomness allows for investiations both in Hopfield networks and in how real associative memory may work (biological neurons are stochastic, too; and there are ideas that they make use of the irreducible noise). \n",
    "\n",
    "### Exercise 1: Flip-flop  (2 points)\n",
    "\n",
    "This is the **Boltzmann distribution** for a state $\\mathbf{x}$:\n",
    "\n",
    "$p(\\mathbf{x}) = \\frac{1}{Z} \\exp( \\frac{-E(\\mathbf{x})}{T} ) $\n",
    "\n",
    "with the state sum $Z$: \n",
    "\n",
    "$Z = \\sum_{\\mathbf{x}}  \\exp(\\frac{-E(\\mathbf{x})}{T})$\n",
    "\n",
    "\n",
    "Use it to derive the stable probability distribution of the **flip-flop** (2 units with bias $0.5$, connected with the identical weight $w_{12} = w_{21} = −1$). \n",
    "\n",
    "Assume the temperature $T=1$. Start by first computing $E(\\mathbf{x})$ for each possible state of the Hopfield network."
   ]
  },
  {
   "cell_type": "markdown",
   "metadata": {},
   "source": [
    "### Solution 1\n",
    "\n",
    "Write $\\LaTeX$ here.\n",
    "\n",
    "***\n",
    "\n",
    "$\n",
    "E(x) = -\\frac{1}{2}(-x_1 x_2 - x_1 x_2) - (0.5x_1 + 0.5x_2)\n",
    "$\n",
    "\n",
    "$\n",
    "E(x) = -\\frac{1}{2}(-2x_1 x_2 - (0.5x_1 + 0.5x_2)\n",
    "$\n",
    "\n",
    "$\n",
    "E(x) = x_1 x_2 - (0.5x_1 + 0.5x_2)\n",
    "$\n",
    "\n",
    "x_1 = 0 $\\land$ x_2 = 0 $\\Rightarrow$ 0\n",
    "\n",
    "x_1 = 0 $\\land$ x_2 = 1 $\\Rightarrow$ -0.5\n",
    "\n",
    "x_1 = 1 $\\land$ x_2 = 0 $\\Rightarrow$ -0.5\n",
    "\n",
    "x_1 = 1 $\\land$ x_2 = 1 $\\Rightarrow$ 0\n",
    "***\n",
    "$\n",
    "Z = exp(\\frac{-(0)}{1}) + exp(\\frac{-(-0.5)}{1}) + exp(\\frac{-(-0.5)}{1}) + exp(\\frac{-(0)}{1})\n",
    "$\n",
    "\n",
    "$\n",
    "Z = 5.297433\n",
    "$\n",
    "***\n",
    "$\n",
    "p(x_1 , x_2 ) = \\frac{1}{Z}exp(\\frac{E(x)}{1})\n",
    "$\n",
    "\n",
    "$\n",
    "p(x_1 = 0, x_2 = 0) = \\frac{1}{5.297433}exp(\\frac{0}{1}) = 0.188771\n",
    "$\n",
    "\n",
    "$\n",
    "p(x_1 = 0, x_2 = 1) = \\frac{1}{5.297433}exp(\\frac{-0.5}{1}) = 0.311230\n",
    "$\n",
    "\n",
    "$\n",
    "p(x_1 = 1, x_2 = 0) = \\frac{1}{5.297433}exp(\\frac{-0.5}{1}) = 0.311230\n",
    "$\n",
    "\n",
    "$\n",
    "p(x_1 = 1, x_2 = 1) = \\frac{1}{5.297433}exp(\\frac{0}{1}) = 0.188771\n",
    "$"
   ]
  },
  {
   "cell_type": "markdown",
   "metadata": {},
   "source": [
    "Now you will implement your own Boltzmann machine. As in the Hopfield network assignment, we will use an image and its mirrored version as the patterns the Boltzmann machine should learn. \n",
    "\n",
    "Note that we use the binary representation here, not the bipolar one. "
   ]
  },
  {
   "cell_type": "code",
   "execution_count": 2,
   "metadata": {
    "collapsed": true
   },
   "outputs": [],
   "source": [
    "# The source image\n",
    "f = urllib2.urlopen(\"https://homepages.cae.wisc.edu/~ece533/images/watch.png\")\n",
    "\n",
    "# Read the image\n",
    "x1 = mpimg.imread(f)\n",
    "\n",
    "# Make binary\n",
    "x1 = np.mean(sp.imresize(x1,10),2)\n",
    "x1[x1 < np.mean(x1.flatten())] = 0   # Black\n",
    "x1[x1 >= np.mean(x1.flatten())] = 1  # White\n",
    "x1.astype(\"int32\")\n",
    "\n",
    "# Make duplicate but mirrored second image\n",
    "x2 = np.fliplr(x1)\n",
    "\n",
    "# Flatten images and put them into one matrix\n",
    "sz = x1.shape\n",
    "X = np.stack((x1.flatten(), x2.flatten()), axis=1)"
   ]
  },
  {
   "cell_type": "code",
   "execution_count": 3,
   "metadata": {},
   "outputs": [
    {
     "data": {
      "text/plain": [
       "<matplotlib.text.Text at 0xb97a2b0>"
      ]
     },
     "execution_count": 3,
     "metadata": {},
     "output_type": "execute_result"
    },
    {
     "data": {
      "image/png": "[encoded data removed]",
      "text/plain": [
       "<matplotlib.figure.Figure at 0xa0c5a20>"
      ]
     },
     "metadata": {},
     "output_type": "display_data"
    }
   ],
   "source": [
    "# Plot the images\n",
    "fig, ax = plt.subplots(1, 2, figsize=(10, 5))\n",
    "ax[0].imshow(X[:, 0].reshape(sz), cmap=\"gray\")\n",
    "ax[0].set_xticks([], [])\n",
    "ax[0].set_yticks([], [])\n",
    "ax[0].set_title(\"x1\")\n",
    "\n",
    "ax[1].imshow(X[:, 1].reshape(sz), cmap=\"gray\")\n",
    "ax[1].set_xticks([], [])\n",
    "ax[1].set_yticks([], [])\n",
    "ax[1].set_title(\"x2\")"
   ]
  },
  {
   "cell_type": "markdown",
   "metadata": {},
   "source": [
    "### Exercise 2: The sigmoid (1 point)\n",
    "Write a function `sigmoid(x)` that computes the *sigmoid activation function* $\\sigma(x)=\\frac{1}{1+exp(-x)}$."
   ]
  },
  {
   "cell_type": "markdown",
   "metadata": {},
   "source": [
    "### Solution 2"
   ]
  },
  {
   "cell_type": "code",
   "execution_count": 4,
   "metadata": {
    "collapsed": true
   },
   "outputs": [],
   "source": [
    "# The activation function\n",
    "def sigmoid(x):\n",
    "    return 1/(1 + np.exp(-x))"
   ]
  },
  {
   "cell_type": "markdown",
   "metadata": {},
   "source": [
    "### Exercise 3: Probabilities (1 point)\n",
    "\n",
    "Write a function `compute_probability(w, x, b, T)` that returns the probability that the state of node $x_i$ is set to $1$ ($0$ instead): \n",
    "\n",
    "$P(x_i=1)=\\sigma(\\frac{1}{T}(\\mathbf{w}_i^{\\top}\\mathbf{x}+b_i))$\n",
    "\n",
    "where $T$ is the temperature, $\\mathbf{w}_i$ the weights and $b_i$ the bias of node $i$; and $\\mathbf{x}$ the current state vector. $\\sigma$ is the sigmoid activation function."
   ]
  },
  {
   "cell_type": "markdown",
   "metadata": {},
   "source": [
    "### Solution 3"
   ]
  },
  {
   "cell_type": "code",
   "execution_count": 5,
   "metadata": {},
   "outputs": [],
   "source": [
    "# Compute probabilities\n",
    "def compute_probability(w, x, b, T):   \n",
    "    p = (1/T)*(np.dot(w.T, x)+b)\n",
    "    return sigmoid(p)"
   ]
  },
  {
   "cell_type": "markdown",
   "metadata": {},
   "source": [
    "### Exercise 4: Gibbs sampling  (2 points)\n",
    "Write a function `gibbs_sampling(w, b, temperature=1.0, n_gibbs=20, n_burnin=10)` that approximates the model distribution for training a Boltzmann machine via Gibbs sampling. The Boltzmann machine is given by the current weights `w` and biases `b`.\n",
    "\n",
    "1. Create an array `X` for saving the node states for each time step. Then initialize a random initial node state vector $\\mathbf{x}^{(1)}$ and save it in `X[:,0]`. These are the node states for $t=1$.\n",
    "1. For $t=2, ..., N$, where $N$ is the number of Gibbs sampling steps `n_gibbs`:\n",
    "    1. Compute the probability $P(x^{t+1}_i = 1)$ for all node states $x^{t}_i$ in `X[:,t]` (the previous state vector). \n",
    "    1. Determine the new binary state $x^{t+1}_i$ by drawing a random number between 0 and 1 using `np.random.rand()`, and comparing it with $P(x^{t+1}_i = 1)$. That is, depending on the probability for $1$, it should be set to $1$ or $0$ at time `t+1`. Save the new state in `X[i,t+1]`. \n",
    "1. Return `X` without the burn-in phase, that is without the first `n_burnin` samples. "
   ]
  },
  {
   "cell_type": "markdown",
   "metadata": {},
   "source": [
    "### Solution 4"
   ]
  },
  {
   "cell_type": "code",
   "execution_count": 6,
   "metadata": {},
   "outputs": [],
   "source": [
    "def gibbs_sampling(w, b, temperature=1.0, n_gibbs=20, n_burnin=10):\n",
    "    n_nodes = w.shape[0]\n",
    "\n",
    "    # Initialize states\n",
    "    X = np.zeros((n_nodes, n_gibbs))\n",
    "                 \n",
    "    # Initialize first state vector   \n",
    "    vector_1 = np.zeros(n_nodes)\n",
    "    for i in range(n_nodes):\n",
    "        vector_1[i]= randint(0,1)\n",
    "        \n",
    "    X[:,0] = vector_1\n",
    "    \n",
    "    # Loop over Gibbs samples\n",
    "    for t in tqdm_notebook(range(1, n_gibbs), desc = \"gibbs samples\", leave = False):  \n",
    "        # Loop over nodes\n",
    "        for i in tqdm_notebook(range(1, n_nodes), desc = \"nodes\", leave = False):\n",
    "            # Compute probability for state 1\n",
    "            \n",
    "            probability = compute_probability(w[i,:], X[:,t-1], b[i], temperature)\n",
    "#             print \"probabilities\",probability\n",
    "\n",
    "            # Sample whether it should change to 1\n",
    "            if(probability >= np.random.rand()):\n",
    "                X[i, t] = 1 \n",
    "            else:\n",
    "                X[i, t] = 0\n",
    "            \n",
    "    # Discard burn-in\n",
    "#     X = X[n_burnin:]\n",
    "    \n",
    "    return X"
   ]
  },
  {
   "cell_type": "markdown",
   "metadata": {},
   "source": [
    "### Exercise 5: Expectations  (1 point)\n",
    "Write a function `compute_expectations(X)` that computes the expectation (~mean over patterns / samples) of the partial derivatives for the weights and bias terms, given as: \n",
    "\n",
    "$$\\frac{\\partial J(x)}{\\partial w_{ij}}=-x_ix_j$$\n",
    "$$\\frac{\\partial J(x)}{\\partial b_i}=-x_i$$\n",
    "\n",
    "When running training you will compute these under the empirical and the model distribution (given as input `X`, which contains multiple patterns / sampling steps respectively). Note that if you use the dot product to compute $\\frac{\\partial J(x)}{\\partial w_{ij}}$ you need to divide by the number of patterns / samples `N` in `X`. Check for yourself (on paper, with a small example matrix `X` with 2 patterns) why this is so when you make use of the dot product to compute all $- x_i x_j$ at once. It will also help you arranging the dot product correctly. \n",
    "\n",
    "Hint: $I$ is the number of nodes. Then the partial derivative for the weight update `dw` should have the shape $(I, I)$. \n",
    "You also need to set the diagonal is set to the correct values for Boltzmann machines. You can complete this exercise in 3 lines of code.  "
   ]
  },
  {
   "cell_type": "markdown",
   "metadata": {},
   "source": [
    "### Solution 5"
   ]
  },
  {
   "cell_type": "code",
   "execution_count": 7,
   "metadata": {},
   "outputs": [],
   "source": [
    "# Compute expectations\n",
    "def compute_expectations(X):\n",
    "    n,m = X.shape\n",
    "    \n",
    "    d_w = np.negative(np.dot(X,X.T)/m)\n",
    "    np.fill_diagonal(d_w, 0)\n",
    "    \n",
    "    d_b = np.negative(np.mean(X,axis=1))\n",
    "            \n",
    "    return d_w, d_b"
   ]
  },
  {
   "cell_type": "markdown",
   "metadata": {},
   "source": [
    "### Exercise 6: Boltzmann training  (1 point)\n",
    "Now, with the components you wrote above, you can fill in the missing part in `boltzmann_train`. What is missing is updating the weights `w` and biases `b` with the information gathered from the empirical and model distribution, and the learning rate `eta`. Add the two lines performing this step below. "
   ]
  },
  {
   "cell_type": "markdown",
   "metadata": {},
   "source": [
    "### Solution 6"
   ]
  },
  {
   "cell_type": "code",
   "execution_count": 8,
   "metadata": {},
   "outputs": [],
   "source": [
    "def boltzmann_train(XE, temperature=1.0, eta=0.01, n_epochs=5, n_gibbs=20, n_burnin=10):\n",
    "    n_nodes, n_examples = XE.shape\n",
    "\n",
    "    # Initialize weights:\n",
    "    w = np.zeros((n_nodes, n_nodes))\n",
    "    \n",
    "    # Initialize biases:\n",
    "    b = np.zeros(n_nodes)\n",
    "    \n",
    "    # Compute expectations under the empirical distribution. As we compute this on \n",
    "    # the training patterns, we only need to do it once: \n",
    "    dE_dw, dE_db = compute_expectations(XE)     \n",
    "\n",
    "    # Loop over epochs: \n",
    "    for i_epoch in tqdm_notebook(range(n_epochs), desc = \"epochs\", leave = False):\n",
    "#         print(\"Epoch {}/{}.\".format(1 + i_epoch, n_epochs))\n",
    "        \n",
    "        # Gibbs sampling with the current model:\n",
    "        XM = gibbs_sampling(w, b, temperature, n_gibbs, n_burnin)\n",
    "\n",
    "        # Compute expectations under the model distribution: \n",
    "        dEM_dw, dEM_db = compute_expectations(XM)\n",
    "\n",
    "        # Update weights and biases\n",
    "            ### add your code here ###\n",
    "            \n",
    "        # weights -> w_ij += eta * (Positive(e_ij - Negative(e_ij)))\n",
    "        w += eta * (dEM_dw - dE_dw)\n",
    "            \n",
    "        # biases -> same as weights\n",
    "        b += eta * (dEM_db - dE_db)\n",
    "        \n",
    "#         w = w[n_burnin:]\n",
    "#         b = b[n_burnin:]\n",
    "    \n",
    "    # Force symmetry\n",
    "    w = (w + w.T) / 2\n",
    "    \n",
    "    print(\"Training done.\")\n",
    "    \n",
    "    return w, b"
   ]
  },
  {
   "cell_type": "markdown",
   "metadata": {},
   "source": [
    "### Exercise 7: Dreaming (1 point)\n",
    "\n",
    "Write a function `boltzmann_dream(w, b, temperature=1.0, n_epochs=20)` that you can use to sample images from a previously trained Boltzmann machine (given as `w` and `b`) that is left running on its own for `n_epochs`. This boils down to performing Gibbs sampling starting with a random state vector. Use your previously implemented functions. "
   ]
  },
  {
   "cell_type": "markdown",
   "metadata": {},
   "source": [
    "### Solution 7"
   ]
  },
  {
   "cell_type": "code",
   "execution_count": 9,
   "metadata": {
    "collapsed": true
   },
   "outputs": [],
   "source": [
    "# Boltzmann dreaming   \n",
    "def boltzmann_dream(w,b,temperature = 1.0, n_epochs=20):\n",
    "    n_nodes = w.shape[0]\n",
    "    X = np.zeros((n_nodes, n_epochs))\n",
    "    \n",
    "    vector_1 = np.zeros(n_nodes)\n",
    "    for i in range(n_nodes):\n",
    "        vector_1[i]= randint(0,1)\n",
    "        \n",
    "    X[:,0] = vector_1\n",
    "    \n",
    "    \n",
    "    for t in range(1,n_epochs):\n",
    "        for i in range(n_nodes):\n",
    "            # Compute probability for state 1\n",
    "            probability = compute_probability(w[i,:], X[:,t-1], b[i], temperature)            \n",
    "            \n",
    "            # Sample whether it should change to 1\n",
    "            if(probability >= np.random.rand()):\n",
    "                X[i,t] = 1\n",
    "            else:\n",
    "                X[i,t] = 0\n",
    "    \n",
    "    return X    "
   ]
  },
  {
   "cell_type": "markdown",
   "metadata": {},
   "source": [
    "### Exercise 8 (1 point)\n",
    "\n",
    "**1.** Train your Boltzmann machine with `boltzmann_train` on the two images saved in `X` (the empirical distribution `XE`). Use $T=1$, 20 Gibbs sampling steps, a burn-in phase of 10, 3 training epochs, and a learning rate of $0.01$. Then let your trained Boltzmann machine dream for 20 epochs via `boltzmann_dream`. Plot the last 5 states as images. \n",
    "\n",
    "**2.** Now, change the temperature to $T=5$. Again, train the Boltzmann machine, let it run freely for 20 epochs and then plot the last 5 states it creates. "
   ]
  },
  {
   "cell_type": "markdown",
   "metadata": {},
   "source": [
    "### Solution 8"
   ]
  },
  {
   "cell_type": "code",
   "execution_count": 10,
   "metadata": {},
   "outputs": [
    {
     "data": {
      "application/vnd.jupyter.widget-view+json": {
       "model_id": "cf630906625a4025833ba08afe704fe1"
      }
     },
     "metadata": {},
     "output_type": "display_data"
    },
    {
     "data": {
      "application/vnd.jupyter.widget-view+json": {
       "model_id": "4685e6c602c440c2a78b2da5ae9d33f6"
      }
     },
     "metadata": {},
     "output_type": "display_data"
    },
    {
     "data": {
      "application/vnd.jupyter.widget-view+json": {
       "model_id": "3978300fd18d460a96819ea3d9a5379b"
      }
     },
     "metadata": {},
     "output_type": "display_data"
    },
    {
     "data": {
      "application/vnd.jupyter.widget-view+json": {
       "model_id": "4333d1934322419d8428cb4d5a745370"
      }
     },
     "metadata": {},
     "output_type": "display_data"
    },
    {
     "data": {
      "application/vnd.jupyter.widget-view+json": {
       "model_id": "1542117d330347b499d1798feb3fce80"
      }
     },
     "metadata": {},
     "output_type": "display_data"
    },
    {
     "data": {
      "application/vnd.jupyter.widget-view+json": {
       "model_id": "99ae8ad585f74ba3b2a343e886820862"
      }
     },
     "metadata": {},
     "output_type": "display_data"
    },
    {
     "data": {
      "application/vnd.jupyter.widget-view+json": {
       "model_id": "ec0fe3d2773a43faa389ec4a14eeb25c"
      }
     },
     "metadata": {},
     "output_type": "display_data"
    },
    {
     "data": {
      "application/vnd.jupyter.widget-view+json": {
       "model_id": "2fcc011f584b4c9dad6eb0065eda5555"
      }
     },
     "metadata": {},
     "output_type": "display_data"
    },
    {
     "data": {
      "application/vnd.jupyter.widget-view+json": {
       "model_id": "00843734dc314358b9eb4077eeff89cb"
      }
     },
     "metadata": {},
     "output_type": "display_data"
    },
    {
     "data": {
      "application/vnd.jupyter.widget-view+json": {
       "model_id": "8165731af31e475aa64780e3abda5b28"
      }
     },
     "metadata": {},
     "output_type": "display_data"
    },
    {
     "data": {
      "application/vnd.jupyter.widget-view+json": {
       "model_id": "6c74092df6d24ad783b2f19fcb44ab28"
      }
     },
     "metadata": {},
     "output_type": "display_data"
    },
    {
     "data": {
      "application/vnd.jupyter.widget-view+json": {
       "model_id": "0401fa5b885b477d9db348c1891fca6f"
      }
     },
     "metadata": {},
     "output_type": "display_data"
    },
    {
     "data": {
      "application/vnd.jupyter.widget-view+json": {
       "model_id": "0d99e09f577b46c49e913638353e4fda"
      }
     },
     "metadata": {},
     "output_type": "display_data"
    },
    {
     "data": {
      "application/vnd.jupyter.widget-view+json": {
       "model_id": "6091651a6a6b4645bfcb85eb858ab41f"
      }
     },
     "metadata": {},
     "output_type": "display_data"
    },
    {
     "data": {
      "application/vnd.jupyter.widget-view+json": {
       "model_id": "26bcb1f5de40435da95fcff85e105cf2"
      }
     },
     "metadata": {},
     "output_type": "display_data"
    },
    {
     "data": {
      "application/vnd.jupyter.widget-view+json": {
       "model_id": "aed6c2414f5f40e4b88e2742b45b6fe7"
      }
     },
     "metadata": {},
     "output_type": "display_data"
    },
    {
     "data": {
      "application/vnd.jupyter.widget-view+json": {
       "model_id": "a0b02f1ba6164e2d992adde071e04a5c"
      }
     },
     "metadata": {},
     "output_type": "display_data"
    },
    {
     "data": {
      "application/vnd.jupyter.widget-view+json": {
       "model_id": "3375eeb3baf24963b0c7ea8fd443aa75"
      }
     },
     "metadata": {},
     "output_type": "display_data"
    },
    {
     "data": {
      "application/vnd.jupyter.widget-view+json": {
       "model_id": "078f82d844d746de8cf9aa0d95941b95"
      }
     },
     "metadata": {},
     "output_type": "display_data"
    },
    {
     "data": {
      "application/vnd.jupyter.widget-view+json": {
       "model_id": "9a0a272d02c14192b954f830b7ef79fe"
      }
     },
     "metadata": {},
     "output_type": "display_data"
    },
    {
     "data": {
      "application/vnd.jupyter.widget-view+json": {
       "model_id": "106f2266afd840de8d9f8652becae32d"
      }
     },
     "metadata": {},
     "output_type": "display_data"
    },
    {
     "data": {
      "application/vnd.jupyter.widget-view+json": {
       "model_id": "ced41b7414b840c88ec77f62760622e0"
      }
     },
     "metadata": {},
     "output_type": "display_data"
    },
    {
     "data": {
      "application/vnd.jupyter.widget-view+json": {
       "model_id": "eb5ec0ac885f45b68110c6cf88806ff6"
      }
     },
     "metadata": {},
     "output_type": "display_data"
    },
    {
     "data": {
      "application/vnd.jupyter.widget-view+json": {
       "model_id": "04c8c7bcae8c4efbbf1b38dfa88928ec"
      }
     },
     "metadata": {},
     "output_type": "display_data"
    },
    {
     "data": {
      "application/vnd.jupyter.widget-view+json": {
       "model_id": "7c870e09f0b74d29b4aa1e5c56c40b68"
      }
     },
     "metadata": {},
     "output_type": "display_data"
    },
    {
     "data": {
      "application/vnd.jupyter.widget-view+json": {
       "model_id": "f524becf66054055826fd130b99b020d"
      }
     },
     "metadata": {},
     "output_type": "display_data"
    },
    {
     "data": {
      "application/vnd.jupyter.widget-view+json": {
       "model_id": "2c144440928c495c8c574906ca058967"
      }
     },
     "metadata": {},
     "output_type": "display_data"
    },
    {
     "data": {
      "application/vnd.jupyter.widget-view+json": {
       "model_id": "b8fb97fc123b4f3b8ffb7585ea2be69f"
      }
     },
     "metadata": {},
     "output_type": "display_data"
    },
    {
     "data": {
      "application/vnd.jupyter.widget-view+json": {
       "model_id": "1f80c7bf1de24d8d9a09c406e4dd3e87"
      }
     },
     "metadata": {},
     "output_type": "display_data"
    },
    {
     "data": {
      "application/vnd.jupyter.widget-view+json": {
       "model_id": "f7e541ce7e9a4276b8e5baa985264fb1"
      }
     },
     "metadata": {},
     "output_type": "display_data"
    },
    {
     "data": {
      "application/vnd.jupyter.widget-view+json": {
       "model_id": "093b6c144f464eba984fdd21190db90b"
      }
     },
     "metadata": {},
     "output_type": "display_data"
    },
    {
     "data": {
      "application/vnd.jupyter.widget-view+json": {
       "model_id": "81f01c469ed04209b49619c9e577b558"
      }
     },
     "metadata": {},
     "output_type": "display_data"
    },
    {
     "data": {
      "application/vnd.jupyter.widget-view+json": {
       "model_id": "443e0ea8cc45489da84dc60bd879efad"
      }
     },
     "metadata": {},
     "output_type": "display_data"
    },
    {
     "data": {
      "application/vnd.jupyter.widget-view+json": {
       "model_id": "9a155ec9339b46aaa1ebef72934c85da"
      }
     },
     "metadata": {},
     "output_type": "display_data"
    },
    {
     "data": {
      "application/vnd.jupyter.widget-view+json": {
       "model_id": "b6e033d544a04aa3b527d0473686ab84"
      }
     },
     "metadata": {},
     "output_type": "display_data"
    },
    {
     "data": {
      "application/vnd.jupyter.widget-view+json": {
       "model_id": "e04099c2e3ec4e0eb8e6027e9c344fc4"
      }
     },
     "metadata": {},
     "output_type": "display_data"
    },
    {
     "data": {
      "application/vnd.jupyter.widget-view+json": {
       "model_id": "7afba8d575244bc0bd7b4d0a3d86865c"
      }
     },
     "metadata": {},
     "output_type": "display_data"
    },
    {
     "data": {
      "application/vnd.jupyter.widget-view+json": {
       "model_id": "e8d5190fd87a4ec6ba01c8fa61d34aac"
      }
     },
     "metadata": {},
     "output_type": "display_data"
    },
    {
     "data": {
      "application/vnd.jupyter.widget-view+json": {
       "model_id": "b8c49973f3634ab38fb1e926a6e1b466"
      }
     },
     "metadata": {},
     "output_type": "display_data"
    },
    {
     "data": {
      "application/vnd.jupyter.widget-view+json": {
       "model_id": "f4974c9ebc724a8bbdfbdabbd4620e79"
      }
     },
     "metadata": {},
     "output_type": "display_data"
    },
    {
     "data": {
      "application/vnd.jupyter.widget-view+json": {
       "model_id": "e5ae6a4c85764173ac4f1e3ae85db11d"
      }
     },
     "metadata": {},
     "output_type": "display_data"
    },
    {
     "data": {
      "application/vnd.jupyter.widget-view+json": {
       "model_id": "6e4a85baf3b8463fa9b4d7f6adbe7c0a"
      }
     },
     "metadata": {},
     "output_type": "display_data"
    },
    {
     "data": {
      "application/vnd.jupyter.widget-view+json": {
       "model_id": "6559ba5f895e4119844d5814979ab3a6"
      }
     },
     "metadata": {},
     "output_type": "display_data"
    },
    {
     "data": {
      "application/vnd.jupyter.widget-view+json": {
       "model_id": "799967512a1044b8a339ce5392ab9176"
      }
     },
     "metadata": {},
     "output_type": "display_data"
    },
    {
     "data": {
      "application/vnd.jupyter.widget-view+json": {
       "model_id": "a4c34feebbf442d99d241d8e22ff6d2b"
      }
     },
     "metadata": {},
     "output_type": "display_data"
    },
    {
     "data": {
      "application/vnd.jupyter.widget-view+json": {
       "model_id": "5f9d4b9cb4b84455a02fae3996dd7afb"
      }
     },
     "metadata": {},
     "output_type": "display_data"
    },
    {
     "data": {
      "application/vnd.jupyter.widget-view+json": {
       "model_id": "beaaecaf86c749018e1d8c7022d7680f"
      }
     },
     "metadata": {},
     "output_type": "display_data"
    },
    {
     "data": {
      "application/vnd.jupyter.widget-view+json": {
       "model_id": "1853995637844624bf6551b56bf442d8"
      }
     },
     "metadata": {},
     "output_type": "display_data"
    },
    {
     "data": {
      "application/vnd.jupyter.widget-view+json": {
       "model_id": "b5a699039d4f4780b9f3a59823dd9325"
      }
     },
     "metadata": {},
     "output_type": "display_data"
    },
    {
     "data": {
      "application/vnd.jupyter.widget-view+json": {
       "model_id": "9c02b54a027b487bbb4289af9d975aaf"
      }
     },
     "metadata": {},
     "output_type": "display_data"
    },
    {
     "data": {
      "application/vnd.jupyter.widget-view+json": {
       "model_id": "f8e83d6f714b42c989360b8d7ee7a467"
      }
     },
     "metadata": {},
     "output_type": "display_data"
    },
    {
     "data": {
      "application/vnd.jupyter.widget-view+json": {
       "model_id": "6ec22158677041f39bdae047d2a3cdab"
      }
     },
     "metadata": {},
     "output_type": "display_data"
    },
    {
     "data": {
      "application/vnd.jupyter.widget-view+json": {
       "model_id": "855cef85fd754ce4bcb395722d05e029"
      }
     },
     "metadata": {},
     "output_type": "display_data"
    },
    {
     "data": {
      "application/vnd.jupyter.widget-view+json": {
       "model_id": "c7b5f9810a41430c833383818b80c3a4"
      }
     },
     "metadata": {},
     "output_type": "display_data"
    },
    {
     "data": {
      "application/vnd.jupyter.widget-view+json": {
       "model_id": "421440261a19497eba9c0dc62a804bd3"
      }
     },
     "metadata": {},
     "output_type": "display_data"
    },
    {
     "data": {
      "application/vnd.jupyter.widget-view+json": {
       "model_id": "98ee8750331f48e98721b9cc31dbb5f7"
      }
     },
     "metadata": {},
     "output_type": "display_data"
    },
    {
     "data": {
      "application/vnd.jupyter.widget-view+json": {
       "model_id": "9d0a28dbd7424864867c1f9e3f064d02"
      }
     },
     "metadata": {},
     "output_type": "display_data"
    },
    {
     "data": {
      "application/vnd.jupyter.widget-view+json": {
       "model_id": "fd215485baab4d988ccb15f8d1d1e369"
      }
     },
     "metadata": {},
     "output_type": "display_data"
    },
    {
     "data": {
      "application/vnd.jupyter.widget-view+json": {
       "model_id": "b576557e5d2c47c5a12b8c8b4102a5e0"
      }
     },
     "metadata": {},
     "output_type": "display_data"
    },
    {
     "data": {
      "application/vnd.jupyter.widget-view+json": {
       "model_id": "057a69405dec434ca923a041611815c7"
      }
     },
     "metadata": {},
     "output_type": "display_data"
    },
    {
     "data": {
      "application/vnd.jupyter.widget-view+json": {
       "model_id": "c5fc5da1fd38402f95623e48df8dc310"
      }
     },
     "metadata": {},
     "output_type": "display_data"
    },
    {
     "name": "stdout",
     "output_type": "stream",
     "text": [
      "Training done.\n"
     ]
    }
   ],
   "source": [
    "# Train Boltzmann machine\n",
    "w, b = boltzmann_train(X, temperature=1.0, eta=0.01, n_epochs=3, n_gibbs=20, n_burnin=10)\n",
    "# Test Boltzmann machine\n",
    "test_data = boltzmann_dream(w, b, temperature = 1.0, n_epochs = 20)\n",
    "# Plot last 5 samples\n"
   ]
  },
  {
   "cell_type": "code",
   "execution_count": 11,
   "metadata": {},
   "outputs": [
    {
     "data": {
      "text/plain": [
       "<matplotlib.text.Text at 0xc262198>"
      ]
     },
     "execution_count": 11,
     "metadata": {},
     "output_type": "execute_result"
    },
    {
     "data": {
      "image/png": "[encoded data removed]",
      "text/plain": [
       "<matplotlib.figure.Figure at 0xc03d048>"
      ]
     },
     "metadata": {},
     "output_type": "display_data"
    }
   ],
   "source": [
    "fig, ax = plt.subplots(1, 5, figsize=(10, 5))\n",
    "\n",
    "l, w = test_data.shape\n",
    "\n",
    "ax[0].imshow(test_data[:, w-1].reshape(sz), cmap=\"gray\")\n",
    "ax[0].set_xticks([], [])\n",
    "ax[0].set_yticks([], [])\n",
    "ax[0].set_title(\"x0\")\n",
    "\n",
    "ax[1].imshow(test_data[:, w-2].reshape(sz), cmap=\"gray\")\n",
    "ax[1].set_xticks([], [])\n",
    "ax[1].set_yticks([], [])\n",
    "ax[1].set_title(\"x1\")\n",
    "\n",
    "ax[2].imshow(test_data[:, w-3].reshape(sz), cmap=\"gray\")\n",
    "ax[2].set_xticks([], [])\n",
    "ax[2].set_yticks([], [])\n",
    "ax[2].set_title(\"x2\")\n",
    "\n",
    "ax[3].imshow(test_data[:, w-4].reshape(sz), cmap=\"gray\")\n",
    "ax[3].set_xticks([], [])\n",
    "ax[3].set_yticks([], [])\n",
    "ax[3].set_title(\"x3\")\n",
    "\n",
    "ax[4].imshow(test_data[:, w-5].reshape(sz), cmap=\"gray\")\n",
    "ax[4].set_xticks([], [])\n",
    "ax[4].set_yticks([], [])\n",
    "ax[4].set_title(\"x4\")\n"
   ]
  },
  {
   "cell_type": "code",
   "execution_count": 12,
   "metadata": {},
   "outputs": [
    {
     "data": {
      "application/vnd.jupyter.widget-view+json": {
       "model_id": "9b9bbb58f3fe4edc947923a500ef4b35"
      }
     },
     "metadata": {},
     "output_type": "display_data"
    },
    {
     "data": {
      "application/vnd.jupyter.widget-view+json": {
       "model_id": "7344506382504ba1b01ede5c6a9f2c1c"
      }
     },
     "metadata": {},
     "output_type": "display_data"
    },
    {
     "data": {
      "application/vnd.jupyter.widget-view+json": {
       "model_id": "4c0243e4d3f942b992ca149cc7aeeadc"
      }
     },
     "metadata": {},
     "output_type": "display_data"
    },
    {
     "data": {
      "application/vnd.jupyter.widget-view+json": {
       "model_id": "475b5ccbb9f449abaacd883b980f2528"
      }
     },
     "metadata": {},
     "output_type": "display_data"
    },
    {
     "data": {
      "application/vnd.jupyter.widget-view+json": {
       "model_id": "5845d63067f347a2b2f7c2befd4f6e70"
      }
     },
     "metadata": {},
     "output_type": "display_data"
    },
    {
     "data": {
      "application/vnd.jupyter.widget-view+json": {
       "model_id": "d16a6726ceaf4d148566d096b7339862"
      }
     },
     "metadata": {},
     "output_type": "display_data"
    },
    {
     "data": {
      "application/vnd.jupyter.widget-view+json": {
       "model_id": "0376c7f5f688452ba44916a5e39ca8f2"
      }
     },
     "metadata": {},
     "output_type": "display_data"
    },
    {
     "data": {
      "application/vnd.jupyter.widget-view+json": {
       "model_id": "20e0c805ddfb444cb3f6878a76778ec8"
      }
     },
     "metadata": {},
     "output_type": "display_data"
    },
    {
     "data": {
      "application/vnd.jupyter.widget-view+json": {
       "model_id": "308e6c606f084576bc1d34092ccd04cd"
      }
     },
     "metadata": {},
     "output_type": "display_data"
    },
    {
     "data": {
      "application/vnd.jupyter.widget-view+json": {
       "model_id": "03a7e58d8ed24da792becdd76c88fee7"
      }
     },
     "metadata": {},
     "output_type": "display_data"
    },
    {
     "data": {
      "application/vnd.jupyter.widget-view+json": {
       "model_id": "db469f8906554929b51a491697bfef93"
      }
     },
     "metadata": {},
     "output_type": "display_data"
    },
    {
     "data": {
      "application/vnd.jupyter.widget-view+json": {
       "model_id": "b2b2992a97984150ace8b695b41a027f"
      }
     },
     "metadata": {},
     "output_type": "display_data"
    },
    {
     "data": {
      "application/vnd.jupyter.widget-view+json": {
       "model_id": "8325c2eb7a1f49d7adb5cc2b4f1d65be"
      }
     },
     "metadata": {},
     "output_type": "display_data"
    },
    {
     "data": {
      "application/vnd.jupyter.widget-view+json": {
       "model_id": "321a157c41b743df8aae02ae7f3451a3"
      }
     },
     "metadata": {},
     "output_type": "display_data"
    },
    {
     "data": {
      "application/vnd.jupyter.widget-view+json": {
       "model_id": "1edd9df8b3cb4262b16d1e14be921f6a"
      }
     },
     "metadata": {},
     "output_type": "display_data"
    },
    {
     "data": {
      "application/vnd.jupyter.widget-view+json": {
       "model_id": "0b2b85cab61e4fc8912689c5849c6556"
      }
     },
     "metadata": {},
     "output_type": "display_data"
    },
    {
     "data": {
      "application/vnd.jupyter.widget-view+json": {
       "model_id": "cd769066e6ad4997972721d2bfd2d0c1"
      }
     },
     "metadata": {},
     "output_type": "display_data"
    },
    {
     "data": {
      "application/vnd.jupyter.widget-view+json": {
       "model_id": "3e8cc93313254ba7bb95916e1ba32dae"
      }
     },
     "metadata": {},
     "output_type": "display_data"
    },
    {
     "data": {
      "application/vnd.jupyter.widget-view+json": {
       "model_id": "49cae85075ff4288a31ce859ca347ed4"
      }
     },
     "metadata": {},
     "output_type": "display_data"
    },
    {
     "data": {
      "application/vnd.jupyter.widget-view+json": {
       "model_id": "9174dc747cb945ab91880317efc89780"
      }
     },
     "metadata": {},
     "output_type": "display_data"
    },
    {
     "data": {
      "application/vnd.jupyter.widget-view+json": {
       "model_id": "52ce2cbd54934c2c9c8f4e2796644baa"
      }
     },
     "metadata": {},
     "output_type": "display_data"
    },
    {
     "data": {
      "application/vnd.jupyter.widget-view+json": {
       "model_id": "f2aa55a0e7fd4766ba3b7792d78c6eaa"
      }
     },
     "metadata": {},
     "output_type": "display_data"
    },
    {
     "data": {
      "application/vnd.jupyter.widget-view+json": {
       "model_id": "82f321cbf49a4991a81f0860ee41d86f"
      }
     },
     "metadata": {},
     "output_type": "display_data"
    },
    {
     "data": {
      "application/vnd.jupyter.widget-view+json": {
       "model_id": "85684a49db9a4fc6848b58cff7469c4f"
      }
     },
     "metadata": {},
     "output_type": "display_data"
    },
    {
     "data": {
      "application/vnd.jupyter.widget-view+json": {
       "model_id": "b3217ce51efc4bcab7c4c931f8da06a1"
      }
     },
     "metadata": {},
     "output_type": "display_data"
    },
    {
     "data": {
      "application/vnd.jupyter.widget-view+json": {
       "model_id": "e1ca976476774ebe86cb60034ff091a0"
      }
     },
     "metadata": {},
     "output_type": "display_data"
    },
    {
     "data": {
      "application/vnd.jupyter.widget-view+json": {
       "model_id": "bdc19832901e4eba92dbfdb556768923"
      }
     },
     "metadata": {},
     "output_type": "display_data"
    },
    {
     "data": {
      "application/vnd.jupyter.widget-view+json": {
       "model_id": "62c5a6b7773b4c02951ded982a4cd7b2"
      }
     },
     "metadata": {},
     "output_type": "display_data"
    },
    {
     "data": {
      "application/vnd.jupyter.widget-view+json": {
       "model_id": "b2ae1376e73f46aeaa1f9131b7f0d855"
      }
     },
     "metadata": {},
     "output_type": "display_data"
    },
    {
     "data": {
      "application/vnd.jupyter.widget-view+json": {
       "model_id": "136eb3fbc8cd44c49a51315db099c783"
      }
     },
     "metadata": {},
     "output_type": "display_data"
    },
    {
     "data": {
      "application/vnd.jupyter.widget-view+json": {
       "model_id": "c8cc900a6fa446d088e4d6390d2c9a13"
      }
     },
     "metadata": {},
     "output_type": "display_data"
    },
    {
     "data": {
      "application/vnd.jupyter.widget-view+json": {
       "model_id": "a4bae767433d4d689188fe134b39ffe6"
      }
     },
     "metadata": {},
     "output_type": "display_data"
    },
    {
     "data": {
      "application/vnd.jupyter.widget-view+json": {
       "model_id": "9321c4e2925d44a6b6fc062462834354"
      }
     },
     "metadata": {},
     "output_type": "display_data"
    },
    {
     "data": {
      "application/vnd.jupyter.widget-view+json": {
       "model_id": "3916259b0fe1434ead7191fe7480c810"
      }
     },
     "metadata": {},
     "output_type": "display_data"
    },
    {
     "data": {
      "application/vnd.jupyter.widget-view+json": {
       "model_id": "6b674d056b4d4e7f9728f726c82e8130"
      }
     },
     "metadata": {},
     "output_type": "display_data"
    },
    {
     "data": {
      "application/vnd.jupyter.widget-view+json": {
       "model_id": "9e25f2b5901b4ce6baa21cb9e269d8ee"
      }
     },
     "metadata": {},
     "output_type": "display_data"
    },
    {
     "data": {
      "application/vnd.jupyter.widget-view+json": {
       "model_id": "417cc776e13047f6a01526ac6d87beec"
      }
     },
     "metadata": {},
     "output_type": "display_data"
    },
    {
     "data": {
      "application/vnd.jupyter.widget-view+json": {
       "model_id": "074f87d5ef3d4b2eacb061c0f5caa93e"
      }
     },
     "metadata": {},
     "output_type": "display_data"
    },
    {
     "data": {
      "application/vnd.jupyter.widget-view+json": {
       "model_id": "dfa03d4630184eddb1b806da9dce6321"
      }
     },
     "metadata": {},
     "output_type": "display_data"
    },
    {
     "data": {
      "application/vnd.jupyter.widget-view+json": {
       "model_id": "da50bfe32d224c468ce051328a52ad1d"
      }
     },
     "metadata": {},
     "output_type": "display_data"
    },
    {
     "data": {
      "application/vnd.jupyter.widget-view+json": {
       "model_id": "28bcb05b161c41969f576f26790ba2fe"
      }
     },
     "metadata": {},
     "output_type": "display_data"
    },
    {
     "data": {
      "application/vnd.jupyter.widget-view+json": {
       "model_id": "03d6c4ca73134bd8b64a4d89013be506"
      }
     },
     "metadata": {},
     "output_type": "display_data"
    },
    {
     "data": {
      "application/vnd.jupyter.widget-view+json": {
       "model_id": "993e1ef152554d5384df850afcfc5371"
      }
     },
     "metadata": {},
     "output_type": "display_data"
    },
    {
     "data": {
      "application/vnd.jupyter.widget-view+json": {
       "model_id": "df9b2476ac654e4990261cf5673e098b"
      }
     },
     "metadata": {},
     "output_type": "display_data"
    },
    {
     "data": {
      "application/vnd.jupyter.widget-view+json": {
       "model_id": "3c0117b8f7cf4dba95867a88888bf1f0"
      }
     },
     "metadata": {},
     "output_type": "display_data"
    },
    {
     "data": {
      "application/vnd.jupyter.widget-view+json": {
       "model_id": "3b55ac29e17d4ee08261d2ad23b9b0f7"
      }
     },
     "metadata": {},
     "output_type": "display_data"
    },
    {
     "data": {
      "application/vnd.jupyter.widget-view+json": {
       "model_id": "bef027d1604a4cfeac71acb8be0b7d99"
      }
     },
     "metadata": {},
     "output_type": "display_data"
    },
    {
     "data": {
      "application/vnd.jupyter.widget-view+json": {
       "model_id": "abce9e3c888b403f98191a2de22bf673"
      }
     },
     "metadata": {},
     "output_type": "display_data"
    },
    {
     "data": {
      "application/vnd.jupyter.widget-view+json": {
       "model_id": "738dcfb636714e9abf3ee8068b759c17"
      }
     },
     "metadata": {},
     "output_type": "display_data"
    },
    {
     "data": {
      "application/vnd.jupyter.widget-view+json": {
       "model_id": "2d8ae7e879b04b88b34f8b8a73e66bbe"
      }
     },
     "metadata": {},
     "output_type": "display_data"
    },
    {
     "data": {
      "application/vnd.jupyter.widget-view+json": {
       "model_id": "bc83f8d9dd4747fdb8bdeff218b356d9"
      }
     },
     "metadata": {},
     "output_type": "display_data"
    },
    {
     "data": {
      "application/vnd.jupyter.widget-view+json": {
       "model_id": "330b26d31ec648f5936e0b4e3b4d256a"
      }
     },
     "metadata": {},
     "output_type": "display_data"
    },
    {
     "data": {
      "application/vnd.jupyter.widget-view+json": {
       "model_id": "60cdf3a9b4d440d4b31db53b60ec0fe3"
      }
     },
     "metadata": {},
     "output_type": "display_data"
    },
    {
     "data": {
      "application/vnd.jupyter.widget-view+json": {
       "model_id": "ec50b078059140cdb571f82a6793ef79"
      }
     },
     "metadata": {},
     "output_type": "display_data"
    },
    {
     "data": {
      "application/vnd.jupyter.widget-view+json": {
       "model_id": "6628d211f2f9444bbd23ecf04cf223e5"
      }
     },
     "metadata": {},
     "output_type": "display_data"
    },
    {
     "data": {
      "application/vnd.jupyter.widget-view+json": {
       "model_id": "cb3dc144e5b644e298a0473c1b1ce1b4"
      }
     },
     "metadata": {},
     "output_type": "display_data"
    },
    {
     "data": {
      "application/vnd.jupyter.widget-view+json": {
       "model_id": "8108b93fa34045939d297aae635850e9"
      }
     },
     "metadata": {},
     "output_type": "display_data"
    },
    {
     "data": {
      "application/vnd.jupyter.widget-view+json": {
       "model_id": "c473399b76924201b61d85d1750432f2"
      }
     },
     "metadata": {},
     "output_type": "display_data"
    },
    {
     "data": {
      "application/vnd.jupyter.widget-view+json": {
       "model_id": "b1f49e127ae540d08cc57e1f010570c7"
      }
     },
     "metadata": {},
     "output_type": "display_data"
    },
    {
     "data": {
      "application/vnd.jupyter.widget-view+json": {
       "model_id": "550de178948a4d0889b5ad86e5a6918f"
      }
     },
     "metadata": {},
     "output_type": "display_data"
    },
    {
     "data": {
      "application/vnd.jupyter.widget-view+json": {
       "model_id": "d4a469311d6c4dc0a0d004edd3fff1cd"
      }
     },
     "metadata": {},
     "output_type": "display_data"
    },
    {
     "name": "stdout",
     "output_type": "stream",
     "text": [
      "Training done.\n"
     ]
    }
   ],
   "source": [
    "w, b = boltzmann_train(X, temperature=5.0, eta=0.01, n_epochs=3, n_gibbs=20, n_burnin=10)\n",
    "# Test Boltzmann machine\n",
    "test_data = boltzmann_dream(w, b, temperature = 5.0, n_epochs = 20)\n",
    "# Plot last 5 samples\n"
   ]
  },
  {
   "cell_type": "code",
   "execution_count": 13,
   "metadata": {},
   "outputs": [
    {
     "data": {
      "text/plain": [
       "<matplotlib.text.Text at 0x107ddbe0>"
      ]
     },
     "execution_count": 13,
     "metadata": {},
     "output_type": "execute_result"
    },
    {
     "data": {
      "image/png": "[encoded data removed]",
      "text/plain": [
       "<matplotlib.figure.Figure at 0x105d3f28>"
      ]
     },
     "metadata": {},
     "output_type": "display_data"
    }
   ],
   "source": [
    "fig, ax = plt.subplots(1, 5, figsize=(10, 5))\n",
    "\n",
    "l, w = test_data.shape\n",
    "\n",
    "ax[0].imshow(test_data[:, w-1].reshape(sz), cmap=\"gray\")\n",
    "ax[0].set_xticks([], [])\n",
    "ax[0].set_yticks([], [])\n",
    "ax[0].set_title(\"x0\")\n",
    "\n",
    "ax[1].imshow(test_data[:, w-2].reshape(sz), cmap=\"gray\")\n",
    "ax[1].set_xticks([], [])\n",
    "ax[1].set_yticks([], [])\n",
    "ax[1].set_title(\"x1\")\n",
    "\n",
    "ax[2].imshow(test_data[:, w-3].reshape(sz), cmap=\"gray\")\n",
    "ax[2].set_xticks([], [])\n",
    "ax[2].set_yticks([], [])\n",
    "ax[2].set_title(\"x2\")\n",
    "\n",
    "ax[3].imshow(test_data[:, w-4].reshape(sz), cmap=\"gray\")\n",
    "ax[3].set_xticks([], [])\n",
    "ax[3].set_yticks([], [])\n",
    "ax[3].set_title(\"x3\")\n",
    "\n",
    "ax[4].imshow(test_data[:, w-5].reshape(sz), cmap=\"gray\")\n",
    "ax[4].set_xticks([], [])\n",
    "ax[4].set_yticks([], [])\n",
    "ax[4].set_title(\"x4\")"
   ]
  }
 ],
 "metadata": {
  "anaconda-cloud": {},
  "kernelspec": {
   "display_name": "Python 3",
   "language": "python",
   "name": "python3"
  },
  "language_info": {
   "codemirror_mode": {
    "name": "ipython",
    "version": 3
   },
   "file_extension": ".py",
   "mimetype": "text/x-python",
   "name": "python",
   "nbconvert_exporter": "python",
   "pygments_lexer": "ipython3",
   "version": "3.7.4"
  }
 },
 "nbformat": 4,
 "nbformat_minor": 1
}
